{
 "cells": [
  {
   "cell_type": "code",
   "execution_count": null,
   "outputs": [],
   "source": [
    "from tensorflow import keras\n",
    "import numpy as np\n",
    "import matplotlib.pyplot as plt"
   ],
   "metadata": {
    "collapsed": false,
    "pycharm": {
     "name": "#%%\n"
    }
   }
  },
  {
   "cell_type": "code",
   "execution_count": null,
   "outputs": [],
   "source": [
    "'''load datasets'''\n",
    "\n",
    "X_train = np.load('data\\X_train.npy')# population in F=1\n",
    "Y_train = np.load('data\\Y_train.npy')#normalized to w_L\n",
    "\n",
    "\n",
    "X_test = np.load('data\\X_test.npy') # use validation set for testing\n",
    "Y_test = np.load('data\\Y_test.npy') # use validation set for testing\n",
    "\n"
   ],
   "metadata": {
    "collapsed": false,
    "pycharm": {
     "name": "#%% Datasets\n"
    }
   }
  },
  {
   "cell_type": "code",
   "execution_count": null,
   "outputs": [],
   "source": [
    "model_cnn = keras.models.Sequential([\n",
    "    keras.layers.SeparableConv1D(kernel_size=8, activation='relu',padding='SAME',filters=32),\n",
    "    keras.layers.MaxPooling1D(pool_size=2),\n",
    "    keras.layers.SeparableConv1D(kernel_size=8, activation='relu',padding='SAME',filters=64),\n",
    "    keras.layers.SeparableConv1D(kernel_size=8, activation='relu',padding='SAME',filters=64),\n",
    "    keras.layers.MaxPooling1D(pool_size=2),\n",
    "    keras.layers.SeparableConv1D(kernel_size=4, activation='relu',padding='SAME',filters=128),\n",
    "    keras.layers.SeparableConv1D(kernel_size=4, activation='relu',padding='SAME',filters=128),\n",
    "    keras.layers.Flatten(),\n",
    "    # keras.layers.Dense(200,activation='relu'),\n",
    "    keras.layers.Dense(64,activation='relu'),\n",
    "    keras.layers.Dense(32,activation='relu'),\n",
    "    keras.layers.Dense(3)\n",
    "    ])\n",
    "\n",
    "model_cnn.compile(loss=\"mse\", optimizer = keras.optimizers.Adam(1e-3,decay=1e-5),metrics=[\"mae\"])#loss functions are given for two output neurons\n"
   ],
   "metadata": {
    "collapsed": false,
    "pycharm": {
     "name": "#%%% Create CNN model\n"
    }
   }
  },
  {
   "cell_type": "code",
   "execution_count": null,
   "outputs": [],
   "source": [
    "checkpoint_cb = keras.callbacks.ModelCheckpoint(filepath=\"models.hdf5\",save_best_only=True, monitor='val_mae')\n",
    "early_stopping_cb = keras.callbacks.EarlyStopping(patience=500, monitor='val_mae',restore_best_weights=True)\n",
    "\n"
   ],
   "metadata": {
    "collapsed": false,
    "pycharm": {
     "name": "#%%% additional parameters\n"
    }
   }
  },
  {
   "cell_type": "code",
   "execution_count": null,
   "outputs": [],
   "source": [
    "history_cnn = model_cnn.fit(X_train, Y_train, epochs=1500, validation_data=(X_test, Y_test),batch_size=4,callbacks=[checkpoint_cb,early_stopping_cb])\n"
   ],
   "metadata": {
    "collapsed": false,
    "pycharm": {
     "name": "#%%%run training\n"
    }
   }
  },
  {
   "cell_type": "code",
   "execution_count": null,
   "outputs": [],
   "source": [
    "h_cnn = history_cnn.history\n",
    "\n",
    "training_loss = np.array(h_cnn[\"loss\"])\n",
    "test_loss = np.array(h_cnn[\"val_loss\"])\n",
    "epoch_count = np.arange(len(training_loss)) + 1\n",
    "\n",
    "fig, ax = plt.subplots()\n",
    "ax.plot(epoch_count, np.sqrt(training_loss),label='training')\n",
    "ax.plot(epoch_count, np.sqrt(test_loss),label='val')\n",
    "ax.set_xlabel(r'epoch_count',fontsize=12)\n",
    "ax.set_ylabel(r'sqrt(Loss)',fontsize=12)\n",
    "ax.legend(loc=0)\n",
    "ax.set_ylim(0, 0.02)\n",
    "\n",
    "F = model_cnn.predict(X_test)"
   ],
   "metadata": {
    "collapsed": false,
    "pycharm": {
     "name": "#%%%plot results\n"
    }
   }
  }
 ],
 "metadata": {
  "kernelspec": {
   "display_name": "Python 3",
   "language": "python",
   "name": "python3"
  },
  "language_info": {
   "codemirror_mode": {
    "name": "ipython",
    "version": 2
   },
   "file_extension": ".py",
   "mimetype": "text/x-python",
   "name": "python",
   "nbconvert_exporter": "python",
   "pygments_lexer": "ipython2",
   "version": "2.7.6"
  }
 },
 "nbformat": 4,
 "nbformat_minor": 0
}
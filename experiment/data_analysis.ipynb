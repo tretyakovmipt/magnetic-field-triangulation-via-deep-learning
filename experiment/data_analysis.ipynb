{
 "cells": [
  {
   "cell_type": "code",
   "execution_count": 39,
   "metadata": {},
   "outputs": [],
   "source": [
    "import h5py\n",
    "import numpy as np"
   ]
  },
  {
   "cell_type": "code",
   "execution_count": 100,
   "metadata": {},
   "outputs": [],
   "source": [
    "import os\n",
    "# Get the path to the folder containing the .h5 files\n",
    "folder_path = 'experimental_data\\magnitometer_data'\n",
    "\n",
    "variables = {'V0', 'X1', 'X2', 'X3', 'Y1', 'Y2', 'Y3', 'Z1', 'Z2'}\n",
    "arrays = {var: np.empty(0) for var in variables}\n"
   ]
  },
  {
   "cell_type": "code",
   "execution_count": 101,
   "metadata": {},
   "outputs": [
    {
     "data": {
      "text/plain": [
       "{'X3': array([], dtype=float64),\n",
       " 'Y1': array([], dtype=float64),\n",
       " 'Y2': array([], dtype=float64),\n",
       " 'V0': array([], dtype=float64),\n",
       " 'Z2': array([], dtype=float64),\n",
       " 'Y3': array([], dtype=float64),\n",
       " 'X1': array([], dtype=float64),\n",
       " 'Z1': array([], dtype=float64),\n",
       " 'X2': array([], dtype=float64)}"
      ]
     },
     "execution_count": 101,
     "metadata": {},
     "output_type": "execute_result"
    }
   ],
   "source": [
    "arrays"
   ]
  },
  {
   "cell_type": "code",
   "execution_count": 102,
   "metadata": {},
   "outputs": [],
   "source": [
    "\n",
    "# Loop through all the files in the folder\n",
    "for filename in os.listdir(folder_path):\n",
    "    # Check if the file is a .h5 file\n",
    "    if filename.endswith('.h5'):\n",
    "        # Get the full path to the file\n",
    "        file_path = os.path.join(folder_path, filename)\n",
    "        # Process the file\n",
    "        with h5py.File(file_path, 'r') as f:\n",
    "            traces = f['data']['traces']\n",
    "            for group in traces:\n",
    "                arrays[group] = np.concatenate((arrays[group], traces[group][()]['values']))\n"
   ]
  },
  {
   "cell_type": "code",
   "execution_count": 104,
   "metadata": {},
   "outputs": [
    {
     "data": {
      "text/plain": [
       "57600"
      ]
     },
     "execution_count": 104,
     "metadata": {},
     "output_type": "execute_result"
    }
   ],
   "source": [
    "len(arrays['V0'])"
   ]
  },
  {
   "cell_type": "code",
   "execution_count": 97,
   "metadata": {},
   "outputs": [
    {
     "data": {
      "text/plain": [
       "array([ 0.01875555, -0.34601   , -0.36695501, ..., -0.37436634,\n",
       "       -0.38338882, -0.37436634])"
      ]
     },
     "execution_count": 97,
     "metadata": {},
     "output_type": "execute_result"
    }
   ],
   "source": [
    "f = h5py.File(file_path, 'r')\n",
    "traces = f['data']['traces']\n",
    "V0 = traces['V0'][()]\n",
    "X1 = traces['X1'][()]\n",
    "np.concatenate((arrays['V0'],V0['values']))"
   ]
  },
  {
   "cell_type": "code",
   "execution_count": 76,
   "metadata": {},
   "outputs": [
    {
     "ename": "TypeError",
     "evalue": "The DTypes <class 'numpy.dtype[void]'> and <class 'numpy.dtype[float64]'> do not have a common DType. For example they cannot be stored in a single array unless the dtype is `object`.",
     "output_type": "error",
     "traceback": [
      "\u001b[1;31m---------------------------------------------------------------------------\u001b[0m",
      "\u001b[1;31mTypeError\u001b[0m                                 Traceback (most recent call last)",
      "\u001b[1;32m~\\AppData\\Local\\Temp\\ipykernel_44972\\2549564113.py\u001b[0m in \u001b[0;36m<module>\u001b[1;34m\u001b[0m\n\u001b[1;32m----> 1\u001b[1;33m \u001b[0mnp\u001b[0m\u001b[1;33m.\u001b[0m\u001b[0mconcatenate\u001b[0m\u001b[1;33m(\u001b[0m\u001b[1;33m(\u001b[0m\u001b[0marrays\u001b[0m\u001b[1;33m[\u001b[0m\u001b[1;34m'V0'\u001b[0m\u001b[1;33m]\u001b[0m\u001b[1;33m,\u001b[0m\u001b[0mV0\u001b[0m\u001b[1;33m)\u001b[0m\u001b[1;33m)\u001b[0m\u001b[1;33m\u001b[0m\u001b[1;33m\u001b[0m\u001b[0m\n\u001b[0m",
      "\u001b[1;32mc:\\Users\\trety\\anaconda3\\envs\\tf\\lib\\site-packages\\numpy\\core\\overrides.py\u001b[0m in \u001b[0;36mconcatenate\u001b[1;34m(*args, **kwargs)\u001b[0m\n",
      "\u001b[1;31mTypeError\u001b[0m: The DTypes <class 'numpy.dtype[void]'> and <class 'numpy.dtype[float64]'> do not have a common DType. For example they cannot be stored in a single array unless the dtype is `object`."
     ]
    }
   ],
   "source": []
  },
  {
   "cell_type": "code",
   "execution_count": 56,
   "metadata": {},
   "outputs": [
    {
     "ename": "ValueError",
     "evalue": "Invalid location identifier (invalid location identifier)",
     "output_type": "error",
     "traceback": [
      "\u001b[1;31m---------------------------------------------------------------------------\u001b[0m",
      "\u001b[1;31mValueError\u001b[0m                                Traceback (most recent call last)",
      "\u001b[1;32m~\\AppData\\Local\\Temp\\ipykernel_44972\\327412133.py\u001b[0m in \u001b[0;36m<module>\u001b[1;34m\u001b[0m\n\u001b[1;32m----> 1\u001b[1;33m \u001b[0mtraces\u001b[0m \u001b[1;33m=\u001b[0m \u001b[0mf\u001b[0m\u001b[1;33m[\u001b[0m\u001b[1;34m'data'\u001b[0m\u001b[1;33m]\u001b[0m\u001b[1;33m[\u001b[0m\u001b[1;34m'traces'\u001b[0m\u001b[1;33m]\u001b[0m\u001b[1;33m\u001b[0m\u001b[1;33m\u001b[0m\u001b[0m\n\u001b[0m",
      "\u001b[1;32mh5py\\_objects.pyx\u001b[0m in \u001b[0;36mh5py._objects.with_phil.wrapper\u001b[1;34m()\u001b[0m\n",
      "\u001b[1;32mh5py\\_objects.pyx\u001b[0m in \u001b[0;36mh5py._objects.with_phil.wrapper\u001b[1;34m()\u001b[0m\n",
      "\u001b[1;32mc:\\Users\\trety\\anaconda3\\envs\\tf\\lib\\site-packages\\h5py\\_hl\\group.py\u001b[0m in \u001b[0;36m__getitem__\u001b[1;34m(self, name)\u001b[0m\n\u001b[0;32m    326\u001b[0m                 \u001b[1;32mraise\u001b[0m \u001b[0mValueError\u001b[0m\u001b[1;33m(\u001b[0m\u001b[1;34m\"Invalid HDF5 object reference\"\u001b[0m\u001b[1;33m)\u001b[0m\u001b[1;33m\u001b[0m\u001b[1;33m\u001b[0m\u001b[0m\n\u001b[0;32m    327\u001b[0m         \u001b[1;32melif\u001b[0m \u001b[0misinstance\u001b[0m\u001b[1;33m(\u001b[0m\u001b[0mname\u001b[0m\u001b[1;33m,\u001b[0m \u001b[1;33m(\u001b[0m\u001b[0mbytes\u001b[0m\u001b[1;33m,\u001b[0m \u001b[0mstr\u001b[0m\u001b[1;33m)\u001b[0m\u001b[1;33m)\u001b[0m\u001b[1;33m:\u001b[0m\u001b[1;33m\u001b[0m\u001b[1;33m\u001b[0m\u001b[0m\n\u001b[1;32m--> 328\u001b[1;33m             \u001b[0moid\u001b[0m \u001b[1;33m=\u001b[0m \u001b[0mh5o\u001b[0m\u001b[1;33m.\u001b[0m\u001b[0mopen\u001b[0m\u001b[1;33m(\u001b[0m\u001b[0mself\u001b[0m\u001b[1;33m.\u001b[0m\u001b[0mid\u001b[0m\u001b[1;33m,\u001b[0m \u001b[0mself\u001b[0m\u001b[1;33m.\u001b[0m\u001b[0m_e\u001b[0m\u001b[1;33m(\u001b[0m\u001b[0mname\u001b[0m\u001b[1;33m)\u001b[0m\u001b[1;33m,\u001b[0m \u001b[0mlapl\u001b[0m\u001b[1;33m=\u001b[0m\u001b[0mself\u001b[0m\u001b[1;33m.\u001b[0m\u001b[0m_lapl\u001b[0m\u001b[1;33m)\u001b[0m\u001b[1;33m\u001b[0m\u001b[1;33m\u001b[0m\u001b[0m\n\u001b[0m\u001b[0;32m    329\u001b[0m         \u001b[1;32melse\u001b[0m\u001b[1;33m:\u001b[0m\u001b[1;33m\u001b[0m\u001b[1;33m\u001b[0m\u001b[0m\n\u001b[0;32m    330\u001b[0m             raise TypeError(\"Accessing a group is done with bytes or str, \"\n",
      "\u001b[1;32mh5py\\_objects.pyx\u001b[0m in \u001b[0;36mh5py._objects.with_phil.wrapper\u001b[1;34m()\u001b[0m\n",
      "\u001b[1;32mh5py\\_objects.pyx\u001b[0m in \u001b[0;36mh5py._objects.with_phil.wrapper\u001b[1;34m()\u001b[0m\n",
      "\u001b[1;32mh5py\\h5o.pyx\u001b[0m in \u001b[0;36mh5py.h5o.open\u001b[1;34m()\u001b[0m\n",
      "\u001b[1;31mValueError\u001b[0m: Invalid location identifier (invalid location identifier)"
     ]
    }
   ],
   "source": [
    "traces = f['data']['traces']\n"
   ]
  },
  {
   "cell_type": "code",
   "execution_count": 35,
   "metadata": {},
   "outputs": [
    {
     "name": "stdout",
     "output_type": "stream",
     "text": [
      "V0\n",
      "X1\n",
      "X2\n",
      "X3\n",
      "Y1\n",
      "Y2\n",
      "Y3\n",
      "Z1\n",
      "Z2\n"
     ]
    }
   ],
   "source": [
    "for group in traces:\n",
    "    print(group)"
   ]
  },
  {
   "cell_type": "code",
   "execution_count": 54,
   "metadata": {},
   "outputs": [
    {
     "ename": "ValueError",
     "evalue": "Invalid location identifier (invalid location identifier)",
     "output_type": "error",
     "traceback": [
      "\u001b[1;31m---------------------------------------------------------------------------\u001b[0m",
      "\u001b[1;31mValueError\u001b[0m                                Traceback (most recent call last)",
      "\u001b[1;32m~\\AppData\\Local\\Temp\\ipykernel_44972\\3088650426.py\u001b[0m in \u001b[0;36m<module>\u001b[1;34m\u001b[0m\n\u001b[1;32m----> 1\u001b[1;33m \u001b[0mV0\u001b[0m \u001b[1;33m=\u001b[0m \u001b[0mtraces\u001b[0m\u001b[1;33m[\u001b[0m\u001b[1;34m'V0'\u001b[0m\u001b[1;33m]\u001b[0m\u001b[1;33m[\u001b[0m\u001b[1;33m(\u001b[0m\u001b[1;33m)\u001b[0m\u001b[1;33m]\u001b[0m\u001b[1;33m\u001b[0m\u001b[1;33m\u001b[0m\u001b[0m\n\u001b[0m\u001b[0;32m      2\u001b[0m \u001b[0mV0\u001b[0m\u001b[1;33m\u001b[0m\u001b[1;33m\u001b[0m\u001b[0m\n",
      "\u001b[1;32mh5py\\_objects.pyx\u001b[0m in \u001b[0;36mh5py._objects.with_phil.wrapper\u001b[1;34m()\u001b[0m\n",
      "\u001b[1;32mh5py\\_objects.pyx\u001b[0m in \u001b[0;36mh5py._objects.with_phil.wrapper\u001b[1;34m()\u001b[0m\n",
      "\u001b[1;32mc:\\Users\\trety\\anaconda3\\envs\\tf\\lib\\site-packages\\h5py\\_hl\\group.py\u001b[0m in \u001b[0;36m__getitem__\u001b[1;34m(self, name)\u001b[0m\n\u001b[0;32m    326\u001b[0m                 \u001b[1;32mraise\u001b[0m \u001b[0mValueError\u001b[0m\u001b[1;33m(\u001b[0m\u001b[1;34m\"Invalid HDF5 object reference\"\u001b[0m\u001b[1;33m)\u001b[0m\u001b[1;33m\u001b[0m\u001b[1;33m\u001b[0m\u001b[0m\n\u001b[0;32m    327\u001b[0m         \u001b[1;32melif\u001b[0m \u001b[0misinstance\u001b[0m\u001b[1;33m(\u001b[0m\u001b[0mname\u001b[0m\u001b[1;33m,\u001b[0m \u001b[1;33m(\u001b[0m\u001b[0mbytes\u001b[0m\u001b[1;33m,\u001b[0m \u001b[0mstr\u001b[0m\u001b[1;33m)\u001b[0m\u001b[1;33m)\u001b[0m\u001b[1;33m:\u001b[0m\u001b[1;33m\u001b[0m\u001b[1;33m\u001b[0m\u001b[0m\n\u001b[1;32m--> 328\u001b[1;33m             \u001b[0moid\u001b[0m \u001b[1;33m=\u001b[0m \u001b[0mh5o\u001b[0m\u001b[1;33m.\u001b[0m\u001b[0mopen\u001b[0m\u001b[1;33m(\u001b[0m\u001b[0mself\u001b[0m\u001b[1;33m.\u001b[0m\u001b[0mid\u001b[0m\u001b[1;33m,\u001b[0m \u001b[0mself\u001b[0m\u001b[1;33m.\u001b[0m\u001b[0m_e\u001b[0m\u001b[1;33m(\u001b[0m\u001b[0mname\u001b[0m\u001b[1;33m)\u001b[0m\u001b[1;33m,\u001b[0m \u001b[0mlapl\u001b[0m\u001b[1;33m=\u001b[0m\u001b[0mself\u001b[0m\u001b[1;33m.\u001b[0m\u001b[0m_lapl\u001b[0m\u001b[1;33m)\u001b[0m\u001b[1;33m\u001b[0m\u001b[1;33m\u001b[0m\u001b[0m\n\u001b[0m\u001b[0;32m    329\u001b[0m         \u001b[1;32melse\u001b[0m\u001b[1;33m:\u001b[0m\u001b[1;33m\u001b[0m\u001b[1;33m\u001b[0m\u001b[0m\n\u001b[0;32m    330\u001b[0m             raise TypeError(\"Accessing a group is done with bytes or str, \"\n",
      "\u001b[1;32mh5py\\_objects.pyx\u001b[0m in \u001b[0;36mh5py._objects.with_phil.wrapper\u001b[1;34m()\u001b[0m\n",
      "\u001b[1;32mh5py\\_objects.pyx\u001b[0m in \u001b[0;36mh5py._objects.with_phil.wrapper\u001b[1;34m()\u001b[0m\n",
      "\u001b[1;32mh5py\\h5o.pyx\u001b[0m in \u001b[0;36mh5py.h5o.open\u001b[1;34m()\u001b[0m\n",
      "\u001b[1;31mValueError\u001b[0m: Invalid location identifier (invalid location identifier)"
     ]
    }
   ],
   "source": [
    "V0 = traces['V0'][()]\n",
    "V0\n"
   ]
  },
  {
   "cell_type": "code",
   "execution_count": 27,
   "metadata": {},
   "outputs": [
    {
     "data": {
      "text/plain": [
       "6400"
      ]
     },
     "execution_count": 27,
     "metadata": {},
     "output_type": "execute_result"
    }
   ],
   "source": [
    "len(V0)"
   ]
  },
  {
   "cell_type": "code",
   "execution_count": 32,
   "metadata": {},
   "outputs": [
    {
     "name": "stdout",
     "output_type": "stream",
     "text": [
      "Processing experimental_data\\magnitometer_data\\2023-04-20_0045_5_triangulation_0.h5...\n"
     ]
    },
    {
     "ename": "TypeError",
     "evalue": "Simple selection can't process (b'Dev1', b'NI_USB_6343', b'pulseblaster_0_clockline2', b'internal', b'None', b'Content-Type: application/json {}', b'Dev1', b'Content-Type: application/json {\"__version__\": \"1.1.0\", \"AI_range\": [-10.0, 10.0], \"wait_monitor_supports_wait_completed_events\": true, \"ports\": {\"port0\": {\"num_lines\": 32, \"supports_buffered\": true}, \"port1\": {\"num_lines\": 8, \"supports_buffered\": false}, \"port2\": {\"num_lines\": 8, \"supports_buffered\": false}}, \"supports_buffered_AO\": true, \"num_CI\": 4, \"min_semiperiod_measurement\": 1e-07, \"clock_mirror_terminal\": null, \"clock_terminal\": \"/Dev1/PFI14\", \"num_AI\": 32, \"static_AO\": false, \"max_AI_multi_chan_rate\": 500000.0, \"supports_buffered_DO\": true, \"AI_start_delay_ticks\": null, \"AI_term\": \"RSE\", \"MAX_name\": \"Dev1\", \"max_AO_sample_rate\": 917431.1926605505, \"max_DO_sample_rate\": 1000000.0, \"supports_simultaneous_AI_sampling\": false, \"AI_start_delay\": 7e-08, \"clock_limit\": 917431.1926605505, \"max_AI_single_chan_rate\": 500000.0, \"supports_semiperiod_measurement\": true, \"num_AO\": 4, \"wait_monitor_minimum_pulse_width\": 1e-07, \"AO_range\": [-10.0, 10.0], \"AI_chans\": [\"ai0\", \"ai1\", \"ai10\", \"ai11\", \"ai12\", \"ai13\", \"ai14\", \"ai15\", \"ai16\", \"ai17\", \"ai18\", \"ai19\", \"ai2\", \"ai20\", \"ai21\", \"ai22\", \"ai23\", \"ai24\", \"ai25\", \"ai26\", \"ai27\", \"ai28\", \"ai29\", \"ai3\", \"ai30\", \"ai31\", \"ai4\", \"ai5\", \"ai6\", \"ai7\", \"ai8\", \"ai9\"], \"static_DO\": false}')",
     "output_type": "error",
     "traceback": [
      "\u001b[1;31m---------------------------------------------------------------------------\u001b[0m",
      "\u001b[1;31mTypeError\u001b[0m                                 Traceback (most recent call last)",
      "\u001b[1;32m~\\AppData\\Local\\Temp\\ipykernel_44972\\1550192318.py\u001b[0m in \u001b[0;36m<module>\u001b[1;34m\u001b[0m\n\u001b[0;32m     24\u001b[0m \u001b[1;33m\u001b[0m\u001b[0m\n\u001b[0;32m     25\u001b[0m                         \u001b[1;31m# Get the input dataset and its shape and datatype\u001b[0m\u001b[1;33m\u001b[0m\u001b[1;33m\u001b[0m\u001b[0m\n\u001b[1;32m---> 26\u001b[1;33m                         \u001b[0minput_dataset\u001b[0m \u001b[1;33m=\u001b[0m \u001b[0mgroup\u001b[0m\u001b[1;33m[\u001b[0m\u001b[0mdataset_name\u001b[0m\u001b[1;33m]\u001b[0m\u001b[1;33m\u001b[0m\u001b[1;33m\u001b[0m\u001b[0m\n\u001b[0m\u001b[0;32m     27\u001b[0m                         \u001b[0mshape\u001b[0m \u001b[1;33m=\u001b[0m \u001b[0minput_dataset\u001b[0m\u001b[1;33m.\u001b[0m\u001b[0mshape\u001b[0m\u001b[1;33m\u001b[0m\u001b[1;33m\u001b[0m\u001b[0m\n\u001b[0;32m     28\u001b[0m                         \u001b[0mdtype\u001b[0m \u001b[1;33m=\u001b[0m \u001b[0minput_dataset\u001b[0m\u001b[1;33m.\u001b[0m\u001b[0mdtype\u001b[0m\u001b[1;33m\u001b[0m\u001b[1;33m\u001b[0m\u001b[0m\n",
      "\u001b[1;32mh5py\\_objects.pyx\u001b[0m in \u001b[0;36mh5py._objects.with_phil.wrapper\u001b[1;34m()\u001b[0m\n",
      "\u001b[1;32mh5py\\_objects.pyx\u001b[0m in \u001b[0;36mh5py._objects.with_phil.wrapper\u001b[1;34m()\u001b[0m\n",
      "\u001b[1;32mc:\\Users\\trety\\anaconda3\\envs\\tf\\lib\\site-packages\\h5py\\_hl\\dataset.py\u001b[0m in \u001b[0;36m__getitem__\u001b[1;34m(self, args, new_dtype)\u001b[0m\n\u001b[0;32m    812\u001b[0m \u001b[1;33m\u001b[0m\u001b[0m\n\u001b[0;32m    813\u001b[0m         \u001b[1;31m# Perform the dataspace selection.\u001b[0m\u001b[1;33m\u001b[0m\u001b[1;33m\u001b[0m\u001b[0m\n\u001b[1;32m--> 814\u001b[1;33m         \u001b[0mselection\u001b[0m \u001b[1;33m=\u001b[0m \u001b[0msel\u001b[0m\u001b[1;33m.\u001b[0m\u001b[0mselect\u001b[0m\u001b[1;33m(\u001b[0m\u001b[0mself\u001b[0m\u001b[1;33m.\u001b[0m\u001b[0mshape\u001b[0m\u001b[1;33m,\u001b[0m \u001b[0margs\u001b[0m\u001b[1;33m,\u001b[0m \u001b[0mdataset\u001b[0m\u001b[1;33m=\u001b[0m\u001b[0mself\u001b[0m\u001b[1;33m)\u001b[0m\u001b[1;33m\u001b[0m\u001b[1;33m\u001b[0m\u001b[0m\n\u001b[0m\u001b[0;32m    815\u001b[0m \u001b[1;33m\u001b[0m\u001b[0m\n\u001b[0;32m    816\u001b[0m         \u001b[1;32mif\u001b[0m \u001b[0mselection\u001b[0m\u001b[1;33m.\u001b[0m\u001b[0mnselect\u001b[0m \u001b[1;33m==\u001b[0m \u001b[1;36m0\u001b[0m\u001b[1;33m:\u001b[0m\u001b[1;33m\u001b[0m\u001b[1;33m\u001b[0m\u001b[0m\n",
      "\u001b[1;32mc:\\Users\\trety\\anaconda3\\envs\\tf\\lib\\site-packages\\h5py\\_hl\\selections.py\u001b[0m in \u001b[0;36mselect\u001b[1;34m(shape, args, dataset)\u001b[0m\n\u001b[0;32m     80\u001b[0m         \u001b[0mselector\u001b[0m \u001b[1;33m=\u001b[0m \u001b[0m_selector\u001b[0m\u001b[1;33m.\u001b[0m\u001b[0mSelector\u001b[0m\u001b[1;33m(\u001b[0m\u001b[0mspace\u001b[0m\u001b[1;33m)\u001b[0m\u001b[1;33m\u001b[0m\u001b[1;33m\u001b[0m\u001b[0m\n\u001b[0;32m     81\u001b[0m \u001b[1;33m\u001b[0m\u001b[0m\n\u001b[1;32m---> 82\u001b[1;33m     \u001b[1;32mreturn\u001b[0m \u001b[0mselector\u001b[0m\u001b[1;33m.\u001b[0m\u001b[0mmake_selection\u001b[0m\u001b[1;33m(\u001b[0m\u001b[0margs\u001b[0m\u001b[1;33m)\u001b[0m\u001b[1;33m\u001b[0m\u001b[1;33m\u001b[0m\u001b[0m\n\u001b[0m\u001b[0;32m     83\u001b[0m \u001b[1;33m\u001b[0m\u001b[0m\n\u001b[0;32m     84\u001b[0m \u001b[1;33m\u001b[0m\u001b[0m\n",
      "\u001b[1;32mh5py\\_selector.pyx\u001b[0m in \u001b[0;36mh5py._selector.Selector.make_selection\u001b[1;34m()\u001b[0m\n",
      "\u001b[1;32mh5py\\_selector.pyx\u001b[0m in \u001b[0;36mh5py._selector.Selector.apply_args\u001b[1;34m()\u001b[0m\n",
      "\u001b[1;31mTypeError\u001b[0m: Simple selection can't process (b'Dev1', b'NI_USB_6343', b'pulseblaster_0_clockline2', b'internal', b'None', b'Content-Type: application/json {}', b'Dev1', b'Content-Type: application/json {\"__version__\": \"1.1.0\", \"AI_range\": [-10.0, 10.0], \"wait_monitor_supports_wait_completed_events\": true, \"ports\": {\"port0\": {\"num_lines\": 32, \"supports_buffered\": true}, \"port1\": {\"num_lines\": 8, \"supports_buffered\": false}, \"port2\": {\"num_lines\": 8, \"supports_buffered\": false}}, \"supports_buffered_AO\": true, \"num_CI\": 4, \"min_semiperiod_measurement\": 1e-07, \"clock_mirror_terminal\": null, \"clock_terminal\": \"/Dev1/PFI14\", \"num_AI\": 32, \"static_AO\": false, \"max_AI_multi_chan_rate\": 500000.0, \"supports_buffered_DO\": true, \"AI_start_delay_ticks\": null, \"AI_term\": \"RSE\", \"MAX_name\": \"Dev1\", \"max_AO_sample_rate\": 917431.1926605505, \"max_DO_sample_rate\": 1000000.0, \"supports_simultaneous_AI_sampling\": false, \"AI_start_delay\": 7e-08, \"clock_limit\": 917431.1926605505, \"max_AI_single_chan_rate\": 500000.0, \"supports_semiperiod_measurement\": true, \"num_AO\": 4, \"wait_monitor_minimum_pulse_width\": 1e-07, \"AO_range\": [-10.0, 10.0], \"AI_chans\": [\"ai0\", \"ai1\", \"ai10\", \"ai11\", \"ai12\", \"ai13\", \"ai14\", \"ai15\", \"ai16\", \"ai17\", \"ai18\", \"ai19\", \"ai2\", \"ai20\", \"ai21\", \"ai22\", \"ai23\", \"ai24\", \"ai25\", \"ai26\", \"ai27\", \"ai28\", \"ai29\", \"ai3\", \"ai30\", \"ai31\", \"ai4\", \"ai5\", \"ai6\", \"ai7\", \"ai8\", \"ai9\"], \"static_DO\": false}')"
     ]
    }
   ],
   "source": [
    "# Create a new HDF5 file to store the combined data\n",
    "with h5py.File('combined.h5', 'w') as f_out:\n",
    "\n",
    "    # Loop through all the files in the folder\n",
    "    for filename in os.listdir(folder_path):\n",
    "    # Check if the file is a .h5 file\n",
    "        if filename.endswith('.h5'):\n",
    "        # Get the full path to the file\n",
    "            file_path = os.path.join(folder_path, filename)\n",
    "\n",
    "            # Open the input HDF5 file\n",
    "            with h5py.File(file_path, 'r') as f_in:\n",
    "                print(f'Processing {file_path}...')\n",
    "\n",
    "                # Loop over the groups in the input file\n",
    "                for group_name, group in f_in.items():\n",
    "\n",
    "                    # Create a new group in the output file\n",
    "                    if group_name not in f_out:\n",
    "                        f_out.create_group(group_name)\n",
    "\n",
    "                    # Loop over the datasets in the input group\n",
    "                    for dataset_name in group:\n",
    "\n",
    "                        # Get the input dataset and its shape and datatype\n",
    "                        input_dataset = group[dataset_name]\n",
    "                        shape = input_dataset.shape\n",
    "                        dtype = input_dataset.dtype\n",
    "\n",
    "                        # If the dataset doesn't exist in the output file, create it\n",
    "                        if dataset_name not in f_out[group_name]:\n",
    "                            maxshape = (None,) + shape[1:]\n",
    "                            f_out.create_dataset(f'{group_name}/{dataset_name}', shape=shape, dtype=dtype, maxshape=maxshape, chunks=True)\n",
    "\n",
    "                        # Append the data to the output dataset\n",
    "                        output_dataset = f_out[f'{group_name}/{dataset_name}']\n",
    "                        data = input_dataset[()]\n",
    "                        output_dataset.resize((output_dataset.shape[0] + data.shape[0],) + output_dataset.shape[1:])\n",
    "                        output_dataset[-data.shape[0]:] = data"
   ]
  }
 ],
 "metadata": {
  "kernelspec": {
   "display_name": "tf",
   "language": "python",
   "name": "python3"
  },
  "language_info": {
   "codemirror_mode": {
    "name": "ipython",
    "version": 3
   },
   "file_extension": ".py",
   "mimetype": "text/x-python",
   "name": "python",
   "nbconvert_exporter": "python",
   "pygments_lexer": "ipython3",
   "version": "3.9.12"
  },
  "orig_nbformat": 4
 },
 "nbformat": 4,
 "nbformat_minor": 2
}

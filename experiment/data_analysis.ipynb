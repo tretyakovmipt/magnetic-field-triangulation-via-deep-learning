{
 "cells": [
  {
   "cell_type": "code",
   "execution_count": 1,
   "metadata": {},
   "outputs": [],
   "source": [
    "import h5py\n",
    "import numpy as np\n",
    "import os"
   ]
  },
  {
   "cell_type": "code",
   "execution_count": 2,
   "metadata": {},
   "outputs": [],
   "source": [
    "# Get the path to the folder containing the .h5 files\n",
    "folder_path = 'experimental_data\\magnitometer_data'\n",
    "\n",
    "variables = {'V0', 'X1', 'X2', 'X3', 'Y1', 'Y2', 'Y3', 'Z1', 'Z2'}\n",
    "data = {var: np.empty(0) for var in variables}\n"
   ]
  },
  {
   "cell_type": "code",
   "execution_count": 3,
   "metadata": {},
   "outputs": [],
   "source": [
    "\n",
    "# Loop through all the files in the folder\n",
    "for filename in os.listdir(folder_path):\n",
    "    # Check if the file is a .h5 file\n",
    "    if filename.endswith('.h5'):\n",
    "        # Get the full path to the file\n",
    "        file_path = os.path.join(folder_path, filename)\n",
    "        # Process the file\n",
    "        with h5py.File(file_path, 'r') as f:\n",
    "            traces = f['data']['traces']\n",
    "            for group in traces:\n",
    "                data[group] = np.concatenate((data[group], traces[group][()]['values']))\n"
   ]
  }
 ],
 "metadata": {
  "kernelspec": {
   "display_name": "tf",
   "language": "python",
   "name": "python3"
  },
  "language_info": {
   "codemirror_mode": {
    "name": "ipython",
    "version": 3
   },
   "file_extension": ".py",
   "mimetype": "text/x-python",
   "name": "python",
   "nbconvert_exporter": "python",
   "pygments_lexer": "ipython3",
   "version": "3.9.12"
  },
  "orig_nbformat": 4
 },
 "nbformat": 4,
 "nbformat_minor": 2
}

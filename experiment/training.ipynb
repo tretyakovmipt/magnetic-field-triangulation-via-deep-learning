{
 "cells": [
  {
   "attachments": {},
   "cell_type": "markdown",
   "metadata": {},
   "source": [
    "This program trains an artificial neural network to perform magnetic field triangulation based real experimental data."
   ]
  },
  {
   "cell_type": "code",
   "execution_count": 27,
   "metadata": {},
   "outputs": [],
   "source": [
    "import h5py\n",
    "import numpy as np\n",
    "import matplotlib.pyplot as plt\n",
    "import pandas as pd\n"
   ]
  },
  {
   "attachments": {},
   "cell_type": "markdown",
   "metadata": {},
   "source": [
    "# Load the data"
   ]
  },
  {
   "cell_type": "code",
   "execution_count": 28,
   "metadata": {},
   "outputs": [],
   "source": [
    "# specify the path to the h5 file\n",
    "path_to_file = 'all_data.h5' # Location of the h5 files\n",
    "\n",
    "f = h5py.File(path_to_file, 'r')\n",
    "\n",
    "# convert the h5 contents to a dataframe\n",
    "data = {group: f[group][()] for group in f}\n",
    "df = pd.DataFrame(data)"
   ]
  },
  {
   "attachments": {},
   "cell_type": "markdown",
   "metadata": {},
   "source": [
    "# Create training sets"
   ]
  },
  {
   "cell_type": "code",
   "execution_count": 29,
   "metadata": {},
   "outputs": [],
   "source": [
    "V0 = df['V0'] # Targets\n",
    "X = df.iloc[:,1:] # Features\n",
    "\n",
    "from sklearn.model_selection import train_test_split\n",
    "\n",
    "# split X and V0 into training and testing sets\n",
    "X_train, X_test, V0_train, V0_test = train_test_split(X, V0, test_size=0.4, random_state=42)\n",
    "\n",
    "# split X_test and V0_test into training and testing sets\n",
    "X_val, X_test, V0_val, V0_test = train_test_split(X_test, V0_test, test_size=0.5, random_state=42)\n"
   ]
  },
  {
   "cell_type": "code",
   "execution_count": null,
   "metadata": {},
   "outputs": [],
   "source": []
  }
 ],
 "metadata": {
  "kernelspec": {
   "display_name": "tf",
   "language": "python",
   "name": "python3"
  },
  "language_info": {
   "codemirror_mode": {
    "name": "ipython",
    "version": 3
   },
   "file_extension": ".py",
   "mimetype": "text/x-python",
   "name": "python",
   "nbconvert_exporter": "python",
   "pygments_lexer": "ipython3",
   "version": "3.9.12"
  },
  "orig_nbformat": 4
 },
 "nbformat": 4,
 "nbformat_minor": 2
}

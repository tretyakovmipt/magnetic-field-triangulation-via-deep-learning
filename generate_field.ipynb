{
 "cells": [
  {
   "cell_type": "code",
   "execution_count": null,
   "metadata": {
    "collapsed": true,
    "pycharm": {
     "name": "#%%\n"
    }
   },
   "outputs": [],
   "source": [
    "import numpy as np\n",
    "\n",
    "mu0 = 10 ** -7  # magnetic constant\n",
    "m = 1e8  # magnetic dipole magnitude\n",
    "# A = np.array([0,0.5,1]) #magnetic dipole axis\n",
    "r0 = np.array([0, 0, 3])  # magnetic dipole position\n",
    "B_uniform = np.array([0.2, 0.2, 0.2])\n",
    "\n",
    "N = 33  # number of training samples\n",
    "\n",
    "\n",
    "def mag(x):\n",
    "    return np.sqrt(np.dot(x, x))\n",
    "\n",
    "\n",
    "# sensor positions\n",
    "R0 = np.array([0.1, 0.1, 0.1])  # target\n",
    "R1 = np.array([1, 1, 1])\n",
    "R2 = np.array([-1, 1, 1])\n",
    "R3 = np.array([-1, -1, 1])\n",
    "R4 = np.array([1, -1, 1])\n",
    "R5 = np.array([-1, -1, -1])\n",
    "R6 = np.array([1, -1, -1])\n",
    "R7 = np.array([1, 1, -1])\n",
    "R8 = np.array([-1, 1, -1])\n",
    "\n",
    "sensors = [R1, R2, R3, R4, R5, R6, R7, R8]\n",
    "\n",
    "\n",
    "def dipole(r, r0, m, a, B_uniform):\n",
    "    '''r - location of the field\n",
    "       r0 - position of the dipole\n",
    "       m - magnitude of the dipole\n",
    "       a - dipole axis'''\n",
    "    M = m * a\n",
    "    R = r - r0\n",
    "    if np.dot(R, R) == 0:\n",
    "        return np.array([0, 0, 0])\n",
    "    return mu0 * (3 * R * (np.dot(M, R)) / (mag(R) ** 5) - M / (mag(R) ** 3)) + B_uniform\n",
    "\n",
    "\n",
    "thetha = 2 * np.pi * np.linspace(0, 1, N)\n",
    "\n",
    "B0 = []\n",
    "\n",
    "Bx = []\n",
    "By = []\n",
    "Bz = []\n",
    "\n",
    "for th in thetha:\n",
    "    a = np.array([1, np.sin(th), np.cos(th)])\n",
    "    B0.append(dipole(R0, r0, m, a, B_uniform))\n",
    "    bx, by, bz = [], [], []\n",
    "    for R in sensors:\n",
    "        B = dipole(R, r0, m, a, B_uniform)\n",
    "        bx.append(B[0])\n",
    "        by.append(B[1])\n",
    "        bz.append(B[2])\n",
    "    Bx.append(bx)\n",
    "    By.append(by)\n",
    "    Bz.append(bz)\n",
    "\n",
    "Bx = np.array(Bx)\n",
    "By = np.array(By)\n",
    "Bz = np.array(Bz)\n",
    "B0 = np.array(B0)\n",
    "\n",
    "B_train = np.stack((Bx, By, Bz), axis=2)"
   ]
  }
 ],
 "metadata": {
  "kernelspec": {
   "display_name": "Python 3",
   "language": "python",
   "name": "python3"
  },
  "language_info": {
   "codemirror_mode": {
    "name": "ipython",
    "version": 2
   },
   "file_extension": ".py",
   "mimetype": "text/x-python",
   "name": "python",
   "nbconvert_exporter": "python",
   "pygments_lexer": "ipython2",
   "version": "2.7.6"
  }
 },
 "nbformat": 4,
 "nbformat_minor": 0
}